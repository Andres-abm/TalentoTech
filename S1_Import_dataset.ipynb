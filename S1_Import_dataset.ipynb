{
  "nbformat": 4,
  "nbformat_minor": 0,
  "metadata": {
    "colab": {
      "provenance": [],
      "authorship_tag": "ABX9TyPehbsSbxorBbhiH9L7bazw",
      "include_colab_link": true
    },
    "kernelspec": {
      "name": "python3",
      "display_name": "Python 3"
    },
    "language_info": {
      "name": "python"
    }
  },
  "cells": [
    {
      "cell_type": "markdown",
      "metadata": {
        "id": "view-in-github",
        "colab_type": "text"
      },
      "source": [
        "<a href=\"https://colab.research.google.com/github/Andres-abm/TalentoTech/blob/main/S1_Import_dataset.ipynb\" target=\"_parent\"><img src=\"https://colab.research.google.com/assets/colab-badge.svg\" alt=\"Open In Colab\"/></a>"
      ]
    },
    {
      "cell_type": "code",
      "execution_count": null,
      "metadata": {
        "colab": {
          "base_uri": "https://localhost:8080/"
        },
        "id": "P-EMtpPV5lST",
        "outputId": "6feb0332-908d-4705-f697-43d5fb7baa97"
      },
      "outputs": [
        {
          "output_type": "stream",
          "name": "stdout",
          "text": [
            "Mounted at /content/drive\n"
          ]
        }
      ],
      "source": [
        "#Para importar un archivo CSV a Google Colab y crear un DataFrame con pandas"
      ]
    },
    {
      "cell_type": "markdown",
      "source": [],
      "metadata": {
        "id": "0X4BedX-b3GG"
      }
    },
    {
      "cell_type": "markdown",
      "source": [
        "Vamos a importar los datos de nuestro archivo.\n",
        "\n",
        "1. paso importar nuestra libreria (pandas) y vamos a definir un alias con as (pd)\n",
        "\n",
        "2. definir la ruta del archivo copiando el path\n",
        "\n",
        "3. leer datos de nuestro dataframe"
      ],
      "metadata": {
        "id": "MKAzt55PZ12i"
      }
    },
    {
      "cell_type": "code",
      "source": [
        "import pandas as pd\n",
        "\n",
        "# Cambia 'datos.csv' por el nombre de tu archivo\n",
        "df = pd.read_csv('/content/dataset.csv')"
      ],
      "metadata": {
        "id": "y33bEEYzaEB-"
      },
      "execution_count": null,
      "outputs": []
    },
    {
      "cell_type": "code",
      "source": [
        "print(df.head())"
      ],
      "metadata": {
        "colab": {
          "base_uri": "https://localhost:8080/"
        },
        "id": "AzFyBmgzdZ8u",
        "outputId": "3e4396e7-3d59-4cc5-fee0-8edada85f67a"
      },
      "execution_count": null,
      "outputs": [
        {
          "output_type": "stream",
          "name": "stdout",
          "text": [
            "  Fecha;Region;Producto;Vendedor;Ventas (Euros);\n",
            "0         31/01/2024;Oeste;Sistemas;Kevin;32855;\n",
            "1        1/02/2024;Central;Sistemas;Karen;30633;\n",
            "2           2/02/2024;Oeste;Sistemas;Sara;23151;\n",
            "3        3/02/2024;Central;Sistemas;David;20098;\n",
            "4             4/02/2024;Este;Sistemas;Ana;13531;\n"
          ]
        }
      ]
    }
  ]
}