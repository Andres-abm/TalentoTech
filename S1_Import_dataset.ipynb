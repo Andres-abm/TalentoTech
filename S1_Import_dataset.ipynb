{
  "nbformat": 4,
  "nbformat_minor": 0,
  "metadata": {
    "colab": {
      "provenance": [],
      "authorship_tag": "ABX9TyMXww95qWfD77h0PEL4IFA/",
      "include_colab_link": true
    },
    "kernelspec": {
      "name": "python3",
      "display_name": "Python 3"
    },
    "language_info": {
      "name": "python"
    }
  },
  "cells": [
    {
      "cell_type": "markdown",
      "metadata": {
        "id": "view-in-github",
        "colab_type": "text"
      },
      "source": [
        "<a href=\"https://colab.research.google.com/github/Andres-abm/TalentoTech/blob/main/S1_Import_dataset.ipynb\" target=\"_parent\"><img src=\"https://colab.research.google.com/assets/colab-badge.svg\" alt=\"Open In Colab\"/></a>"
      ]
    },
    {
      "cell_type": "code",
      "execution_count": null,
      "metadata": {
        "colab": {
          "base_uri": "https://localhost:8080/"
        },
        "id": "P-EMtpPV5lST",
        "outputId": "6feb0332-908d-4705-f697-43d5fb7baa97"
      },
      "outputs": [
        {
          "output_type": "stream",
          "name": "stdout",
          "text": [
            "Mounted at /content/drive\n"
          ]
        }
      ],
      "source": [
        "#Para importar un archivo CSV a Google Colab y crear un DataFrame con pandas"
      ]
    },
    {
      "cell_type": "markdown",
      "source": [
        "Vamos a importar los datos de nuestro archivo.\n",
        "\n",
        "1. paso importar nuestra libreria (pandas) y vamos a definir un alias con as (pd)\n",
        "\n",
        "2. definir la ruta del archivo copiando el path\n",
        "\n",
        "3. leer datos de nuestro dataframe"
      ],
      "metadata": {
        "id": "MKAzt55PZ12i"
      }
    },
    {
      "cell_type": "code",
      "source": [
        "import pandas as pd\n",
        "\n",
        "# Cambia 'datos.csv' por el nombre de tu archivo\n",
        "df = pd.read_csv('/content/dataset.csv')\n",
        "print(df.head(18))"
      ],
      "metadata": {
        "id": "y33bEEYzaEB-",
        "colab": {
          "base_uri": "https://localhost:8080/"
        },
        "outputId": "de1fc2a3-a0d8-4a5b-e29e-25d7c3e54f58"
      },
      "execution_count": 23,
      "outputs": [
        {
          "output_type": "stream",
          "name": "stdout",
          "text": [
            "   Fecha;Region;Producto;Vendedor;Ventas (Euros)\n",
            "0          31/01/2024;Oeste;Sistemas;Kevin;32855\n",
            "1         1/02/2024;Central;Sistemas;Karen;30633\n",
            "2            2/02/2024;Oeste;Sistemas;Sara;23151\n",
            "3         3/02/2024;Central;Sistemas;David;20098\n",
            "4              4/02/2024;Este;Sistemas;Ana;13531\n",
            "5            5/02/2024;Este;Sistemas;Lucas;13374\n",
            "6     6/02/2024;Central;Dispositivos;Karen;12948\n",
            "7     7/02/2024;Central;Dispositivos;David;11420\n",
            "8       8/02/2024;Oeste;Dispositivos;Kevin;10711\n",
            "9          9/02/2024;Este;Dispositivos;Ana;10348\n",
            "10           10/02/2024;Este;Accesorios;Ana;9323\n",
            "11       11/02/2024;Este;Dispositivos;Lucas;9312\n",
            "12       12/02/2024;Oeste;Dispositivos;Sara;8780\n",
            "13      13/02/2024;Central;Accesorios;David;8287\n",
            "14         14/02/2024;Este;Accesorios;Lucas;7667\n",
            "15      15/02/2024;Central;Accesorios;Karen;6909\n",
            "16         16/02/2024;Oeste;Accesorios;Sara;5442\n",
            "17        17/02/2024;Oeste;Accesorios;Kevin;4744\n"
          ]
        }
      ]
    },
    {
      "cell_type": "code",
      "source": [
        "print(df.info())"
      ],
      "metadata": {
        "colab": {
          "base_uri": "https://localhost:8080/"
        },
        "id": "fQsPVspY5Yyn",
        "outputId": "1d977b02-2275-4058-d672-2bda3f1fd70b"
      },
      "execution_count": 24,
      "outputs": [
        {
          "output_type": "stream",
          "name": "stdout",
          "text": [
            "<class 'pandas.core.frame.DataFrame'>\n",
            "RangeIndex: 18 entries, 0 to 17\n",
            "Data columns (total 1 columns):\n",
            " #   Column                                         Non-Null Count  Dtype \n",
            "---  ------                                         --------------  ----- \n",
            " 0   Fecha;Region;Producto;Vendedor;Ventas (Euros)  18 non-null     object\n",
            "dtypes: object(1)\n",
            "memory usage: 272.0+ bytes\n",
            "None\n"
          ]
        }
      ]
    },
    {
      "cell_type": "code",
      "source": [
        "print(df.describe())"
      ],
      "metadata": {
        "colab": {
          "base_uri": "https://localhost:8080/"
        },
        "id": "tA5cvYRh5gBm",
        "outputId": "1304012f-a851-4da3-fff3-8e6f1b8a21d6"
      },
      "execution_count": 25,
      "outputs": [
        {
          "output_type": "stream",
          "name": "stdout",
          "text": [
            "       Fecha;Region;Producto;Vendedor;Ventas (Euros)\n",
            "count                                             18\n",
            "unique                                            18\n",
            "top            31/01/2024;Oeste;Sistemas;Kevin;32855\n",
            "freq                                               1\n"
          ]
        }
      ]
    },
    {
      "cell_type": "code",
      "source": [
        "print(df.head())  # Primeras 5 filas\n",
        "print(df.tail())  # Últimas 5 filas"
      ],
      "metadata": {
        "colab": {
          "base_uri": "https://localhost:8080/"
        },
        "id": "U_3J5eb65ovP",
        "outputId": "52de59e7-4bd6-45c9-f3ae-931401bad5b6"
      },
      "execution_count": 26,
      "outputs": [
        {
          "output_type": "stream",
          "name": "stdout",
          "text": [
            "  Fecha;Region;Producto;Vendedor;Ventas (Euros)\n",
            "0         31/01/2024;Oeste;Sistemas;Kevin;32855\n",
            "1        1/02/2024;Central;Sistemas;Karen;30633\n",
            "2           2/02/2024;Oeste;Sistemas;Sara;23151\n",
            "3        3/02/2024;Central;Sistemas;David;20098\n",
            "4             4/02/2024;Este;Sistemas;Ana;13531\n",
            "   Fecha;Region;Producto;Vendedor;Ventas (Euros)\n",
            "13      13/02/2024;Central;Accesorios;David;8287\n",
            "14         14/02/2024;Este;Accesorios;Lucas;7667\n",
            "15      15/02/2024;Central;Accesorios;Karen;6909\n",
            "16         16/02/2024;Oeste;Accesorios;Sara;5442\n",
            "17        17/02/2024;Oeste;Accesorios;Kevin;4744\n"
          ]
        }
      ]
    }
  ]
}